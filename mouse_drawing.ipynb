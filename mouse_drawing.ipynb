{
 "cells": [
  {
   "cell_type": "code",
   "execution_count": 1,
   "metadata": {},
   "outputs": [],
   "source": [
    "import cv2\n",
    "import numpy as np"
   ]
  },
  {
   "cell_type": "code",
   "execution_count": 2,
   "metadata": {},
   "outputs": [],
   "source": [
    "# 回调函数的参数格式是固定的，不要随意更改。\n",
    "def mouse_event(event, x, y, flags, param):\n",
    "    if event == cv2.EVENT_LBUTTONDOWN:\n",
    "        print((x, y))"
   ]
  },
  {
   "cell_type": "code",
   "execution_count": 3,
   "metadata": {},
   "outputs": [],
   "source": [
    "img = np.zeros((512, 512, 3), np.uint8)\n",
    "cv2.namedWindow('image')"
   ]
  },
  {
   "cell_type": "code",
   "execution_count": 4,
   "metadata": {},
   "outputs": [],
   "source": [
    "# 定义鼠标的回调函数\n",
    "cv2.setMouseCallback('image', mouse_event)"
   ]
  },
  {
   "cell_type": "code",
   "execution_count": 5,
   "metadata": {},
   "outputs": [
    {
     "name": "stdout",
     "output_type": "stream",
     "text": [
      "(78, 96)\n",
      "(106, 98)\n",
      "(123, 98)\n",
      "(123, 120)\n",
      "(179, 186)\n",
      "(200, 134)\n",
      "(200, 134)\n",
      "(164, 248)\n"
     ]
    }
   ],
   "source": [
    "while True:\n",
    "    cv2.imshow('image', img)\n",
    "    # 按下ESC键退出\n",
    "    if cv2.waitKey(20) == 27:\n",
    "        break"
   ]
  },
  {
   "cell_type": "code",
   "execution_count": 4,
   "metadata": {},
   "outputs": [],
   "source": [
    "import copy\n",
    "# 综合实例\n",
    "drawing = False  # 是否开始画图\n",
    "start = (-1, -1)\n",
    "img = np.zeros((512, 512, 3), np.uint8)\n",
    "img1 = np.zeros((512, 512, 3), np.uint8)\n",
    "def mouse_event(event, x, y, flags, param):\n",
    "    global start, drawing, img, img1\n",
    "    if event == cv2.EVENT_LBUTTONDOWN:\n",
    "        drawing = True\n",
    "        start = (x, y)\n",
    "        img1 = copy.deepcopy(img)\n",
    "    elif event == cv2.EVENT_MOUSEMOVE:\n",
    "        if drawing:\n",
    "            img = copy.deepcopy(img1)\n",
    "            cv2.rectangle(img, start, (x, y), (0, 255, 0), 1)\n",
    "    elif event == cv2.EVENT_LBUTTONUP:\n",
    "        drawing = False\n",
    "        img = copy.deepcopy(img1)\n",
    "        cv2.rectangle(img, start, (x, y), (0, 255, 0), 1)"
   ]
  },
  {
   "cell_type": "code",
   "execution_count": 5,
   "metadata": {},
   "outputs": [],
   "source": [
    "cv2.namedWindow('image')\n",
    "cv2.setMouseCallback('image', mouse_event)\n",
    "while(True):\n",
    "    cv2.imshow('image', img)\n",
    "    if cv2.waitKey(1) == 27:\n",
    "        break"
   ]
  },
  {
   "cell_type": "code",
   "execution_count": null,
   "metadata": {},
   "outputs": [],
   "source": []
  }
 ],
 "metadata": {
  "kernelspec": {
   "display_name": "Python 3",
   "language": "python",
   "name": "python3"
  },
  "language_info": {
   "codemirror_mode": {
    "name": "ipython",
    "version": 3
   },
   "file_extension": ".py",
   "mimetype": "text/x-python",
   "name": "python",
   "nbconvert_exporter": "python",
   "pygments_lexer": "ipython3",
   "version": "3.7.7"
  }
 },
 "nbformat": 4,
 "nbformat_minor": 4
}
