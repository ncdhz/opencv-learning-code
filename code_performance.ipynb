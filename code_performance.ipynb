{
 "cells": [
  {
   "cell_type": "code",
   "execution_count": 1,
   "metadata": {},
   "outputs": [],
   "source": [
    "import cv2"
   ]
  },
  {
   "cell_type": "code",
   "execution_count": 2,
   "metadata": {},
   "outputs": [
    {
     "name": "stdout",
     "output_type": "stream",
     "text": [
      "0.181891667\n"
     ]
    }
   ],
   "source": [
    "start = cv2.getTickCount()\n",
    "sum = 0\n",
    "for i in range(1000):\n",
    "    sum += i\n",
    "    for j in range(1000):\n",
    "         sum *= j\n",
    "end = cv2.getTickCount()\n",
    "print((end - start) / cv2.getTickFrequency())"
   ]
  },
  {
   "cell_type": "code",
   "execution_count": 3,
   "metadata": {},
   "outputs": [],
   "source": [
    "import time"
   ]
  },
  {
   "cell_type": "code",
   "execution_count": 5,
   "metadata": {},
   "outputs": [
    {
     "name": "stdout",
     "output_type": "stream",
     "text": [
      "0.15708600000000006\n"
     ]
    }
   ],
   "source": [
    "start = time.process_time()\n",
    "sum = 0\n",
    "for i in range(1000):\n",
    "    sum += i\n",
    "    for j in range(1000):\n",
    "         sum *= j\n",
    "end = time.process_time()\n",
    "print(end - start)"
   ]
  },
  {
   "cell_type": "code",
   "execution_count": null,
   "metadata": {},
   "outputs": [],
   "source": [
    "# 优化原则\n",
    "# 数据元素少时用Python语法，数据元素多时用Numpy"
   ]
  }
 ],
 "metadata": {
  "kernelspec": {
   "display_name": "Python 3",
   "language": "python",
   "name": "python3"
  },
  "language_info": {
   "codemirror_mode": {
    "name": "ipython",
    "version": 3
   },
   "file_extension": ".py",
   "mimetype": "text/x-python",
   "name": "python",
   "nbconvert_exporter": "python",
   "pygments_lexer": "ipython3",
   "version": "3.7.7"
  }
 },
 "nbformat": 4,
 "nbformat_minor": 4
}
