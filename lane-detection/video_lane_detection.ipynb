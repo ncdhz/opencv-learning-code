{
 "cells": [
  {
   "cell_type": "code",
   "execution_count": 1,
   "metadata": {},
   "outputs": [],
   "source": [
    "import cv2\n",
    "import numpy as np\n",
    "import matplotlib.pyplot as plt"
   ]
  },
  {
   "cell_type": "code",
   "execution_count": 2,
   "metadata": {},
   "outputs": [],
   "source": [
    "def gaussian_blur_canny(img):\n",
    "    # 高斯滤波核大小\n",
    "    blur_ksize = 5\n",
    "    # Canny边缘检测高低阈值\n",
    "    canny_lth = 50\n",
    "    canny_hth = 150\n",
    "    # 1. 灰度化、滤波和Canny\n",
    "    gray = cv2.cvtColor(img, cv2.COLOR_RGB2GRAY)\n",
    "    blur_gray = cv2.GaussianBlur(gray, (blur_ksize, blur_ksize), 1)\n",
    "    return cv2.Canny(blur_gray, canny_lth, canny_hth)"
   ]
  },
  {
   "cell_type": "code",
   "execution_count": 3,
   "metadata": {},
   "outputs": [],
   "source": [
    "def roi_mask(img):\n",
    "    # 创建掩膜\n",
    "    mask = np.zeros_like(img)\n",
    "    corner_points = np.array([[\n",
    "        [0, mask.shape[0]],\n",
    "        [mask.shape[1], mask.shape[0]],\n",
    "        [520, 325],\n",
    "        [460, 325]\n",
    "    ]])\n",
    "    cv2.fillPoly(mask, corner_points, 255)\n",
    "    masked_img = cv2.bitwise_and(img, mask)\n",
    "    return masked_img"
   ]
  },
  {
   "cell_type": "code",
   "execution_count": 4,
   "metadata": {},
   "outputs": [],
   "source": [
    "def left_right_lane(img):\n",
    "    # 统计概率霍夫直线变换\n",
    "    rho = 1\n",
    "    theta = np.pi / 180\n",
    "    threshold = 15\n",
    "    min_line_len = 40\n",
    "    max_line_gap = 20\n",
    "    lines = cv2.HoughLinesP(img, rho, theta, threshold, minLineLength=min_line_len, maxLineGap=max_line_gap)\n",
    "    # 划分左右车道\n",
    "    left_lines, right_lines = [], []\n",
    "    for line in lines:\n",
    "        x1, y1, x2, y2 = line[0]\n",
    "        if (y2 - y1)/(x2 - x1) < 0:\n",
    "            left_lines.append(line[0])\n",
    "        else:\n",
    "            right_lines.append(line[0])\n",
    "    return left_lines, right_lines"
   ]
  },
  {
   "cell_type": "code",
   "execution_count": 5,
   "metadata": {},
   "outputs": [],
   "source": [
    "def clean_lines(lines, threshold):\n",
    "    # 迭代计算斜率均值，排除掉与差值差异较大的数据\n",
    "    slope = [(y2 - y1) / (x2 - x1) for x1, y1, x2, y2 in lines]\n",
    "    while len(lines) > 0:\n",
    "        mean = np.mean(slope)\n",
    "        diff = [abs(s - mean) for s in slope]\n",
    "        idx = np.argmax(diff)\n",
    "        if diff[idx] > threshold:\n",
    "            slope.pop(idx)\n",
    "            lines.pop(idx)\n",
    "        else:\n",
    "            break"
   ]
  },
  {
   "cell_type": "code",
   "execution_count": 6,
   "metadata": {},
   "outputs": [],
   "source": [
    "def get_points(lines):\n",
    "    point = [[x1, y1] for x1, y1, x2, y2 in lines]\n",
    "    point += [[x2, y2] for x1, y1, x2, y2 in lines]\n",
    "    return np.array(point)"
   ]
  },
  {
   "cell_type": "code",
   "execution_count": 7,
   "metadata": {},
   "outputs": [],
   "source": [
    "def least_squares_fit(img, points):\n",
    "    fit = np.polyfit(points[:,1], points[:,0], 1)\n",
    "    fit_fn = np.poly1d(fit)\n",
    "    return [[fit_fn(325), 325],[fit_fn(img.shape[0]), img.shape[0]]]"
   ]
  },
  {
   "cell_type": "code",
   "execution_count": 8,
   "metadata": {},
   "outputs": [],
   "source": [
    "def get_lane(img, left_results, right_results):\n",
    "    vtxs = np.array([[left_results[1], left_results[0], right_results[0], right_results[1]]], dtype=np.int)\n",
    "    img_copy = np.zeros_like(img)\n",
    "    return cv2.fillPoly(img_copy, vtxs, (0, 255, 0))"
   ]
  },
  {
   "cell_type": "code",
   "execution_count": 9,
   "metadata": {},
   "outputs": [],
   "source": [
    "def get_lane_img(img):\n",
    "    img1 = gaussian_blur_canny(img)\n",
    "    img1 = roi_mask(img1)\n",
    "    left_lines, right_lines = left_right_lane(img1)\n",
    "    clean_lines(left_lines, 0.1)\n",
    "    clean_lines(right_lines, 0.1)\n",
    "    left_point, right_point = get_points(left_lines), get_points(right_lines)\n",
    "    if len(left_point) == 0 or len(right_point) == 0:\n",
    "        return img\n",
    "    left_results, right_results = least_squares_fit(img, left_point), least_squares_fit(img, right_point)\n",
    "    img_lane = get_lane(img, left_results, right_results)\n",
    "    return cv2.addWeighted(img, 1, img_lane, 0.2, 0)"
   ]
  },
  {
   "cell_type": "code",
   "execution_count": 10,
   "metadata": {},
   "outputs": [
    {
     "name": "stderr",
     "output_type": "stream",
     "text": [
      "t:   1%|          | 5/681 [00:00<00:14, 47.03it/s, now=None]"
     ]
    },
    {
     "name": "stdout",
     "output_type": "stream",
     "text": [
      "Moviepy - Building video output.mp4.\n",
      "Moviepy - Writing video output.mp4\n",
      "\n"
     ]
    },
    {
     "name": "stderr",
     "output_type": "stream",
     "text": [
      "                                                              \r"
     ]
    },
    {
     "name": "stdout",
     "output_type": "stream",
     "text": [
      "Moviepy - Done !\n",
      "Moviepy - video ready output.mp4\n"
     ]
    }
   ],
   "source": [
    "from moviepy.editor import VideoFileClip\n",
    "# 运行下面的代码需要 moviepy\n",
    "# pip install moviepy\n",
    "output = 'output.mp4'\n",
    "clip = VideoFileClip(\"video.mp4\")\n",
    "out_clip = clip.fl_image(get_lane_img)\n",
    "out_clip.write_videofile(output, audio=False)"
   ]
  },
  {
   "cell_type": "code",
   "execution_count": null,
   "metadata": {},
   "outputs": [],
   "source": []
  }
 ],
 "metadata": {
  "kernelspec": {
   "display_name": "Python 3",
   "language": "python",
   "name": "python3"
  },
  "language_info": {
   "codemirror_mode": {
    "name": "ipython",
    "version": 3
   },
   "file_extension": ".py",
   "mimetype": "text/x-python",
   "name": "python",
   "nbconvert_exporter": "python",
   "pygments_lexer": "ipython3",
   "version": "3.7.7"
  }
 },
 "nbformat": 4,
 "nbformat_minor": 4
}
